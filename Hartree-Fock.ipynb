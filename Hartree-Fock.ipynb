{
 "cells": [
  {
   "cell_type": "code",
   "execution_count": 1,
   "metadata": {},
   "outputs": [],
   "source": [
    "from numpy import *\n",
    "import scipy\n",
    "from scipy.special import erf"
   ]
  },
  {
   "cell_type": "markdown",
   "metadata": {},
   "source": [
    "# Valores iniciales"
   ]
  },
  {
   "cell_type": "code",
   "execution_count": 2,
   "metadata": {},
   "outputs": [],
   "source": [
    "#Diccionario de elementos\n",
    "#Valor zeta   Núm.cuánticos_máx   Carga\n",
    "elementos = {'H': {'Z': 1.24, 'Cmax': 1, 'Carga': 1}, \n",
    "             'He': {'Z': 2.0925, 'Cmax': 1, 'Carga': 2}}\n",
    "#Número de gausianas utilizadas\n",
    "STOnG = 3\n",
    "#Coeficientes de contracción\n",
    "D = array([[0.444635, 0.535328, 0.154329],[0.700115,0.399513,-0.0999672]])\n",
    "#Exponentes de orbitales\n",
    "α = array([[0.109818, 0.405771, 2.22766],[0.0751386,0.231031,0.994203]])\n",
    "#Tamaño de conjunto base\n",
    "B = 2 #La suma de los números cuánticos máximos como usaremos H2 y HeH sólo puede ser '2'\n",
    "#Número de electrones\n",
    "N = 2\n",
    "#Posición de los átomos por molecula"
   ]
  },
  {
   "cell_type": "markdown",
   "metadata": {},
   "source": [
    "# Definimos las funciones que se utilizarán más adelante"
   ]
  },
  {
   "cell_type": "code",
   "execution_count": 3,
   "metadata": {},
   "outputs": [],
   "source": [
    "# Se tienen que hacer las integrales entre orbitales Gaussianos\n",
    "# Esta función hace el producto entre dos gausianas\n",
    "def producto_gaussiano(gaussα, gaussβ):\n",
    "    #sólo necesitamos conocer el centro y el exponente para esto\n",
    "    α, Cα = gaussα\n",
    "    β, Cβ = gaussβ\n",
    "    ρ = α + β\n",
    "    dif = linalg.norm(Cα-Cβ)**2   #Distancia al cuadrado de un centro al otro\n",
    "    N = (4*α*β/(pi**2))**0.75           #Normalización\n",
    "    K = N*exp(-α*β/ρ*dif)               #Prefactor nuevo\n",
    "    Cρ = (α*Cα + β*Cβ)/ρ                #Centro nuevo\n",
    "    return ρ, dif, K, Cρ\n",
    "\n",
    "def traslape(A, B):   #Integral de traslape\n",
    "    ρ, dif, K, Cρ = producto_gaussiano(A, B)\n",
    "    prefactor = (pi/ρ)**1.5\n",
    "    return prefactor*K\n",
    "\n",
    "def cinetica(A, B):      #Integral cinética\n",
    "    ρ, dif, K, Cρ = producto_gaussiano(A, B)\n",
    "    prefactor = (pi/ρ)**1.5\n",
    "    α, Cα = A\n",
    "    β, Cβ = B\n",
    "    exponente_reducido = α*β/ρ\n",
    "    return exponente_reducido*(3-2*exponente_reducido*dif)*prefactor*K\n",
    "\n",
    "def Fo(t):  #Aquí se calcularan las integrales de repulsión entre electrones y el potencial\n",
    "    if t == 0:\n",
    "        return 1\n",
    "    else:\n",
    "        return (0.5*(pi/t)**0.5)*erf(t**0.5)\n",
    "    \n",
    "def potencial(A, B, atomo):\n",
    "    ρ, dif, K, Cρ = producto_gaussiano(A, B)\n",
    "    Cγ = mol[f][1]            #Posición del átomo\n",
    "    Zγ = elementos[atomo]['Carga']     #Carga del átomo\n",
    "    return (-2*pi*Zγ/ρ)*K*Fo(ρ*linalg.norm(Cρ-Cγ)**2)\n",
    "     \n",
    "def multi(A, B, C, D):\n",
    "    ρ1, dif1, K1, Cρ1 = producto_gaussiano(A, B)\n",
    "    ρ2, dif2, K2, Cρ2 = producto_gaussiano(C, D)\n",
    "    multi_prefactor = 2*pi**2.5*(ρ1*ρ2*(ρ1+ρ2)**0.5)**-1\n",
    "    return multi_prefactor*K1*K2*Fo(ρ1*ρ2/(ρ1+ρ2)*linalg.norm(Cρ1-Cρ2)**2)"
   ]
  },
  {
   "cell_type": "markdown",
   "metadata": {},
   "source": [
    "# Sabemos que este cálculo se realiza con matrices, así que las iniciaremos"
   ]
  },
  {
   "cell_type": "code",
   "execution_count": 4,
   "metadata": {
    "scrolled": false
   },
   "outputs": [
    {
     "name": "stdout",
     "output_type": "stream",
     "text": [
      "Escribe La molécula a calcular 'H2' o 'HeH':HeH\n"
     ]
    }
   ],
   "source": [
    "S = zeros((B,B))\n",
    "T = zeros((B,B))\n",
    "V = zeros((B,B))\n",
    "tensor_multi_electronico = zeros((B,B,B,B))\n",
    "\n",
    "n = input(\"Escribe La molécula a calcular 'H2' o 'HeH':\")\n",
    "\n",
    "if n=='HeH':\n",
    "    mol = [['He', array([0.,0.,0.])], ['H' , array([0.,0.,1.4632])]]\n",
    "elif n == 'H2':\n",
    "    mol = [['H', array([0.,0.,0.])], ['H', array([0.,0.,0.74])]]\n",
    "else:\n",
    "    print('No se tiene información')\n",
    "\n",
    "for i in range(len(mol)):\n",
    "    Za = elementos[mol[i][0]]['Carga']\n",
    "    Ca = mol[i][1]\n",
    "    for m in range(elementos[mol[i][0]]['Cmax']):\n",
    "        d_vec_m = D[m]\n",
    "        z = elementos[mol[i][0]]['Z']\n",
    "\n",
    "        α_vec_m = α[m]*z**2\n",
    "\n",
    "        for p in range(STOnG):\n",
    "            for j in range(len(mol)):\n",
    "                Zb = elementos[mol[j][0]]['Carga']\n",
    "                Cb = mol[j][1]\n",
    "                for n in range(elementos[mol[j][0]]['Cmax']):\n",
    "                    d_vec_n = D[n]\n",
    "                    z = elementos[mol[j][0]]['Z']\n",
    "\n",
    "                    α_vec_n = α[n]*z**2\n",
    "                    for q in range(STOnG):\n",
    "                        a = (i+1)*(m+1)-1\n",
    "                        b = (j+1)*(n+1)-1\n",
    "\n",
    "                        S[a,b] += d_vec_m[p]*d_vec_n[q]*traslape((α_vec_m[p],Ca),(α_vec_n[q],Cb))\n",
    "\n",
    "                        T[a,b] += d_vec_m[p]*d_vec_n[q]*cinetica((α_vec_m[p],Ca),(α_vec_n[q],Cb))\n",
    "                        \n",
    "                        f = 0\n",
    "                        for k in [row[0] for row in mol]:\n",
    "                            V[a,b] += d_vec_m[p]*d_vec_n[q]*potencial((α_vec_m[p],Ca),(α_vec_n[q],Cb),k)\n",
    "                            f += 1\n",
    "                        for l in range(len(mol)):\n",
    "                            Zc = elementos[mol[l][0]]['Carga']\n",
    "                            Cc = mol[l][1]\n",
    "                            for o in range(elementos[mol[l][0]]['Cmax']):\n",
    "                                d_vec_o = D[o]\n",
    "                                z = elementos[mol[l][0]]['Z']\n",
    "                                α_vec_o = α[o]*z**2\n",
    "                                for r in range(STOnG):\n",
    "                                    for s in range(len(mol)):\n",
    "                                        Zd = elementos[mol[s][0]]['Carga']\n",
    "                                        Cd = mol[s][1]\n",
    "                                        for t in range(elementos[mol[s][0]]['Cmax']):\n",
    "                                            d_vec_t = D[t]\n",
    "                                            z = elementos[mol[s][0]]['Z']\n",
    "                                            α_vec_t = α[t]*z**2\n",
    "                                            for u in range(STOnG):\n",
    "                                                c = (l+1)*(o+1)-1\n",
    "                                                d = (s+1)*(t+1)-1\n",
    "                                                tensor_multi_electronico[a,b,c,d] += d_vec_m[p]*d_vec_n[q]*d_vec_o[r]*d_vec_t[u]*(\n",
    "                                                multi((α_vec_m[p],Ca),(α_vec_n[q],Cb),(α_vec_o[r],Cc),(α_vec_t[u],Cd)))"
   ]
  },
  {
   "cell_type": "code",
   "execution_count": 5,
   "metadata": {},
   "outputs": [],
   "source": [
    "Hcore = T + V"
   ]
  },
  {
   "cell_type": "code",
   "execution_count": 6,
   "metadata": {},
   "outputs": [],
   "source": [
    "# Ortogonalización de la base\n",
    "\n",
    "evalS, U = linalg.eig(S)\n",
    "diagS = dot(U.T,dot(S,U))\n",
    "diagS_Mitad = diag(diagonal(diagS)**-0.5)\n",
    "X = dot(U,dot(diagS_Mitad,U.T))"
   ]
  },
  {
   "cell_type": "code",
   "execution_count": 7,
   "metadata": {},
   "outputs": [],
   "source": [
    "def Elementos_de_matriz_de_densidad(Ptilde, P):\n",
    "    x = 0\n",
    "    for i in range(B):\n",
    "        for j in range(B):\n",
    "            x += B**-2*(Ptilde[i,j]-P[i,j])**2\n",
    "    return x**0.5"
   ]
  },
  {
   "cell_type": "code",
   "execution_count": 8,
   "metadata": {},
   "outputs": [
    {
     "name": "stdout",
     "output_type": "stream",
     "text": [
      "Se logró convergencia a las 6 iteraciones \n",
      "\n",
      "La energia obtenida es: -1.5974477442856965 y -0.061669520372867936 Hartrees\n",
      " \t\t     o: -43.4687895488558 y -1.6781139866742587 eV\n"
     ]
    }
   ],
   "source": [
    "# Iniciamos la matriz P que será la que nos dará resultados\n",
    "P = zeros((B,B))\n",
    "P_ant = zeros((B,B))\n",
    "P_lista = []\n",
    "\n",
    "#Proceso iterativo\n",
    "umbral = 100\n",
    "while umbral > 1E-4:\n",
    "    G = zeros((B,B))\n",
    "    for i in range(B):\n",
    "        for j in range(B):\n",
    "            for x in range(B):\n",
    "                for y in range(B):\n",
    "                    G[i,j] += P[x,y]*(tensor_multi_electronico[i,j,y,x]-0.5*tensor_multi_electronico[i,x,y,j])\n",
    "                    \n",
    "    Fock = Hcore + G\n",
    "    \n",
    "    #Calculemos la matriz de Fock en la base ortogonal\n",
    "    Fockᵪ = dot(X.T,dot(Fock,X))\n",
    "    evalFockᵪ, Cᵪ = linalg.eig(Fockᵪ)\n",
    "    \n",
    "    #Reacomodar los eigenvalores y vectores, empezando del orbital base\n",
    "    idx = evalFockᵪ.argsort()\n",
    "    evalFockᵪ = evalFockᵪ[idx]\n",
    "    Cᵪ = Cᵪ[:,idx]\n",
    "    C = dot(X,Cᵪ)\n",
    "    \n",
    "    #Generar la nueva propuesta a soluciónm 'P'\n",
    "    for i in range(B):\n",
    "        for j in range(B):\n",
    "            for a in range(int(N/2)):\n",
    "                P[i,j] = 2*C[i,a]*C[j,a]\n",
    "    \n",
    "    P_lista.append(P)\n",
    "    umbral = Elementos_de_matriz_de_densidad(P_ant,P)\n",
    "    P_ant = P.copy()\n",
    "\n",
    "print('Se logró convergencia a las {} iteraciones'.format(len(P_lista)),'\\n')\n",
    "print('La energia obtenida es: {} y {} Hartrees\\n \\t\\t     o: {} y {} eV'.format(evalFockᵪ[0],evalFockᵪ[1],evalFockᵪ[0]*27.2114,evalFockᵪ[1]*27.2114))"
   ]
  }
 ],
 "metadata": {
  "kernelspec": {
   "display_name": "Python 3",
   "language": "python",
   "name": "python3"
  },
  "language_info": {
   "codemirror_mode": {
    "name": "ipython",
    "version": 3
   },
   "file_extension": ".py",
   "mimetype": "text/x-python",
   "name": "python",
   "nbconvert_exporter": "python",
   "pygments_lexer": "ipython3",
   "version": "3.7.6"
  }
 },
 "nbformat": 4,
 "nbformat_minor": 4
}
